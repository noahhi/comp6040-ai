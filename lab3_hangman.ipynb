{
 "cells": [
  {
   "cell_type": "code",
   "execution_count": 5,
   "metadata": {},
   "outputs": [],
   "source": [
    "import random"
   ]
  },
  {
   "cell_type": "code",
   "execution_count": 12,
   "metadata": {},
   "outputs": [],
   "source": [
    "class Hangman():\n",
    "    def __init__(self): \n",
    "        self.possible_words = 'hello','goodbye','panda','computer','king' \n",
    "        self.solution = random.choice(self.possible_words)\n",
    "        self.progress = '_'*len(self.solution)\n",
    " \n",
    "    def give_up(self):\n",
    "        print(self.solution)\n",
    "        \n",
    "\n",
    "    def check_state(self):\n",
    "        if self.solution == self.progress:\n",
    "            print('YOU WIN')\n",
    "        else:\n",
    "            pass\n",
    "        \n",
    "    \n",
    "    def guess(self, letter):\n",
    "        found = False\n",
    "        for index,ch in enumerate(self.solution):\n",
    "            if ch == letter:\n",
    "                found = True\n",
    "                self.progress = self.progress[:index] + ch + self.progress[index+1:]\n",
    "        if found:\n",
    "            print('good guess')\n",
    "        else: \n",
    "            print('bad guess')\n",
    "            \n",
    "    \n",
    "    def print_progress(self):\n",
    "        print(self.progress)\n",
    "            \n",
    "    def play(self):\n",
    "        while True:\n",
    "            letter = input()\n",
    "            if letter.isalpha():\n",
    "                self.guess(letter)\n",
    "                self.print_progress()\n",
    "            else:\n",
    "                break"
   ]
  },
  {
   "cell_type": "code",
   "execution_count": 13,
   "metadata": {},
   "outputs": [
    {
     "name": "stdout",
     "output_type": "stream",
     "text": [
      "hello\n",
      "_____\n"
     ]
    }
   ],
   "source": [
    "game = Hangman()\n",
    "game.give_up()\n",
    "print(game.progress)"
   ]
  },
  {
   "cell_type": "code",
   "execution_count": null,
   "metadata": {},
   "outputs": [
    {
     "name": "stdout",
     "output_type": "stream",
     "text": [
      "h\n",
      "good guess\n",
      "h____\n",
      "e\n",
      "good guess\n",
      "he___\n",
      "l\n",
      "good guess\n",
      "hell_\n",
      "o\n",
      "good guess\n",
      "hello\n"
     ]
    }
   ],
   "source": [
    "game.play()"
   ]
  },
  {
   "cell_type": "code",
   "execution_count": null,
   "metadata": {},
   "outputs": [],
   "source": []
  }
 ],
 "metadata": {
  "kernelspec": {
   "display_name": "Python 3",
   "language": "python",
   "name": "python3"
  },
  "language_info": {
   "codemirror_mode": {
    "name": "ipython",
    "version": 3
   },
   "file_extension": ".py",
   "mimetype": "text/x-python",
   "name": "python",
   "nbconvert_exporter": "python",
   "pygments_lexer": "ipython3",
   "version": "3.6.5"
  }
 },
 "nbformat": 4,
 "nbformat_minor": 2
}
